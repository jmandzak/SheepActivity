{
 "cells": [
  {
   "cell_type": "markdown",
   "metadata": {},
   "source": [
    "# Part 1: Stand/Sit Detector\n",
    "### This part creates a stand/sit detector based on images of sheep and uses accelerometer data as ground truth"
   ]
  },
  {
   "cell_type": "code",
   "execution_count": 2,
   "metadata": {},
   "outputs": [],
   "source": [
    "# imports\n",
    "import pandas as pd\n",
    "import numpy as np\n",
    "import cv2"
   ]
  },
  {
   "cell_type": "code",
   "execution_count": 9,
   "metadata": {},
   "outputs": [],
   "source": [
    "# read in the data first\n",
    "files = ['W.csv', 'B.csv', 'M.csv', 'P.csv', 'O_0.csv', 'N.csv', 'K.csv', 'Q.csv']\n",
    "sheep_raw = []\n",
    "data_dir = 'data/'\n",
    "for file in files:\n",
    "    path = data_dir + file\n",
    "    df = pd.read_csv(path)\n",
    "    # drop unnecessary columns\n",
    "    df = df.drop(columns=df.columns[3:])\n",
    "    df = df.drop(columns=df.columns[0:1])\n",
    "\n",
    "    # rename columns\n",
    "    df.columns = ['File', 'Standing']\n",
    "\n",
    "    # change accelerometer value to 1 if standing, 0 if sitting\n",
    "    df['Standing'] = np.where(df['Standing'] < -0.4, 1, 0)\n",
    "\n",
    "    # change the timestamp to the filename for the image\n",
    "    time_stamps = df['File'].to_list()\n",
    "    file_names = []\n",
    "    for ts in time_stamps:\n",
    "        filename = ts\n",
    "        filename = filename.replace(' ', '_')\n",
    "        filename = filename.replace(':', ',')\n",
    "        filename = filename.replace('/', '-')\n",
    "        filename = filename + '.png'\n",
    "\n",
    "        # UNCOMMENT THIS LINE WHEN YOU KNOW PATH TO IMAGE FOLDER\n",
    "        #filename = PATH_TO_IMAGES + '/' + file[0] + '/' + filename\n",
    "\n",
    "        file_names.append(filename)\n",
    "\n",
    "    df = df.assign(File=file_names)\n",
    "    sheep_raw.append(df)"
   ]
  },
  {
   "cell_type": "code",
   "execution_count": 11,
   "metadata": {},
   "outputs": [],
   "source": [
    "sheep_raw[0].to_csv('test.csv', index=False)"
   ]
  },
  {
   "cell_type": "code",
   "execution_count": null,
   "metadata": {},
   "outputs": [],
   "source": [
    "# I suspect there will be too many images here and this will cause a stack overflow, but let's try it\n",
    "X = []\n",
    "y = []\n",
    "for sheep in sheep_raw:\n",
    "    files = sheep['File'].to_list()\n",
    "    labels = sheep['Standing'].to_list()\n",
    "    for file, label in zip(files, labels):\n",
    "        try:\n",
    "            img = cv2.imread(path, cv2.IMREAD_GRAYSCALE)\n",
    "\n",
    "            # downscale image\n",
    "            img = cv2.resize(img, (200,200))\n",
    "\n",
    "            # normalize image\n",
    "            img = img/255\n",
    "            # img = cv2.normalize(img, None, alpha=0, beta=1, norm_type=cv2.NORM_MINMAX, dtype=cv2.CV_32F)\n",
    "\n",
    "            # store image\n",
    "            X.append(img)\n",
    "            y.append(label)\n",
    "        except:\n",
    "            print('Bad image or no image found')\n",
    "            continue\n",
    "\n"
   ]
  }
 ],
 "metadata": {
  "kernelspec": {
   "display_name": "Python 3.8.10 64-bit",
   "language": "python",
   "name": "python3"
  },
  "language_info": {
   "codemirror_mode": {
    "name": "ipython",
    "version": 3
   },
   "file_extension": ".py",
   "mimetype": "text/x-python",
   "name": "python",
   "nbconvert_exporter": "python",
   "pygments_lexer": "ipython3",
   "version": "3.8.10"
  },
  "orig_nbformat": 4,
  "vscode": {
   "interpreter": {
    "hash": "916dbcbb3f70747c44a77c7bcd40155683ae19c65e1c03b4aa3499c5328201f1"
   }
  }
 },
 "nbformat": 4,
 "nbformat_minor": 2
}
