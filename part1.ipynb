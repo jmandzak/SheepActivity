{
 "cells": [
  {
   "cell_type": "markdown",
   "metadata": {},
   "source": [
    "# Part 1: Stand/Sit Detector\n",
    "### This part creates a stand/sit detector based on images of sheep and uses accelerometer data as ground truth"
   ]
  },
  {
   "cell_type": "code",
   "execution_count": 3,
   "metadata": {},
   "outputs": [],
   "source": [
    "# imports\n",
    "import pandas as pd\n",
    "import numpy as np\n",
    "import cv2\n",
    "from sklearn.model_selection import train_test_split\n",
    "\n",
    "import os\n",
    "os.environ['TF_CPP_MIN_LOG_LEVEL'] = '3'\n",
    "\n",
    "from tensorflow.keras import datasets, layers, models"
   ]
  },
  {
   "cell_type": "code",
   "execution_count": 4,
   "metadata": {},
   "outputs": [],
   "source": [
    "# read in the data first\n",
    "files = ['W.csv', 'B.csv', 'M.csv', 'P.csv', 'O_0.csv', 'N.csv', 'K.csv', 'Q.csv']\n",
    "sheep_raw = []\n",
    "data_dir = 'data/'\n",
    "for file in files:\n",
    "    path = data_dir + file\n",
    "    df = pd.read_csv(path)\n",
    "    # drop unnecessary columns\n",
    "    df = df.drop(columns=df.columns[3:])\n",
    "    df = df.drop(columns=df.columns[0:1])\n",
    "\n",
    "    # rename columns\n",
    "    df.columns = ['File', 'Standing']\n",
    "\n",
    "    # change accelerometer value to 1 if standing, 0 if sitting\n",
    "    df['Standing'] = np.where(df['Standing'] < -0.4, 1, 0)\n",
    "\n",
    "    # change the timestamp to the filename for the image\n",
    "    time_stamps = df['File'].to_list()\n",
    "    file_names = []\n",
    "    for ts in time_stamps:\n",
    "        filename = ts\n",
    "        filename = filename.replace(' ', '_')\n",
    "        filename = filename.replace(':', ',')\n",
    "        filename = filename.replace('/', '-')\n",
    "        filename = filename + '.png'\n",
    "\n",
    "        # UNCOMMENT THIS LINE WHEN YOU KNOW PATH TO IMAGE FOLDER\n",
    "        #filename = PATH_TO_IMAGES + '/' + file[0] + '/' + filename\n",
    "\n",
    "        file_names.append(filename)\n",
    "\n",
    "    df = df.assign(File=file_names)\n",
    "    sheep_raw.append(df)"
   ]
  },
  {
   "cell_type": "code",
   "execution_count": 11,
   "metadata": {},
   "outputs": [],
   "source": [
    "sheep_raw[0].to_csv('test.csv', index=False)"
   ]
  },
  {
   "cell_type": "code",
   "execution_count": 6,
   "metadata": {},
   "outputs": [
    {
     "name": "stdout",
     "output_type": "stream",
     "text": [
      "Bad or missing images: 154779\n"
     ]
    },
    {
     "ename": "ValueError",
     "evalue": "With n_samples=0, test_size=0.2 and train_size=None, the resulting train set will be empty. Adjust any of the aforementioned parameters.",
     "output_type": "error",
     "traceback": [
      "\u001b[0;31m---------------------------------------------------------------------------\u001b[0m",
      "\u001b[0;31mValueError\u001b[0m                                Traceback (most recent call last)",
      "Cell \u001b[0;32mIn [6], line 28\u001b[0m\n\u001b[1;32m     25\u001b[0m             \u001b[39mcontinue\u001b[39;00m\n\u001b[1;32m     27\u001b[0m \u001b[39mprint\u001b[39m(\u001b[39mf\u001b[39m\u001b[39m'\u001b[39m\u001b[39mBad or missing images: \u001b[39m\u001b[39m{\u001b[39;00mbad_reads\u001b[39m}\u001b[39;00m\u001b[39m'\u001b[39m)\n\u001b[0;32m---> 28\u001b[0m X_train, X_test, y_train, y_test \u001b[39m=\u001b[39m train_test_split(X, y, test_size\u001b[39m=\u001b[39;49m\u001b[39m0.2\u001b[39;49m, stratify\u001b[39m=\u001b[39;49my, random_state\u001b[39m=\u001b[39;49m\u001b[39m42\u001b[39;49m)\n",
      "File \u001b[0;32m~/.local/lib/python3.8/site-packages/sklearn/model_selection/_split.py:2448\u001b[0m, in \u001b[0;36mtrain_test_split\u001b[0;34m(test_size, train_size, random_state, shuffle, stratify, *arrays)\u001b[0m\n\u001b[1;32m   2445\u001b[0m arrays \u001b[39m=\u001b[39m indexable(\u001b[39m*\u001b[39marrays)\n\u001b[1;32m   2447\u001b[0m n_samples \u001b[39m=\u001b[39m _num_samples(arrays[\u001b[39m0\u001b[39m])\n\u001b[0;32m-> 2448\u001b[0m n_train, n_test \u001b[39m=\u001b[39m _validate_shuffle_split(\n\u001b[1;32m   2449\u001b[0m     n_samples, test_size, train_size, default_test_size\u001b[39m=\u001b[39;49m\u001b[39m0.25\u001b[39;49m\n\u001b[1;32m   2450\u001b[0m )\n\u001b[1;32m   2452\u001b[0m \u001b[39mif\u001b[39;00m shuffle \u001b[39mis\u001b[39;00m \u001b[39mFalse\u001b[39;00m:\n\u001b[1;32m   2453\u001b[0m     \u001b[39mif\u001b[39;00m stratify \u001b[39mis\u001b[39;00m \u001b[39mnot\u001b[39;00m \u001b[39mNone\u001b[39;00m:\n",
      "File \u001b[0;32m~/.local/lib/python3.8/site-packages/sklearn/model_selection/_split.py:2126\u001b[0m, in \u001b[0;36m_validate_shuffle_split\u001b[0;34m(n_samples, test_size, train_size, default_test_size)\u001b[0m\n\u001b[1;32m   2123\u001b[0m n_train, n_test \u001b[39m=\u001b[39m \u001b[39mint\u001b[39m(n_train), \u001b[39mint\u001b[39m(n_test)\n\u001b[1;32m   2125\u001b[0m \u001b[39mif\u001b[39;00m n_train \u001b[39m==\u001b[39m \u001b[39m0\u001b[39m:\n\u001b[0;32m-> 2126\u001b[0m     \u001b[39mraise\u001b[39;00m \u001b[39mValueError\u001b[39;00m(\n\u001b[1;32m   2127\u001b[0m         \u001b[39m\"\u001b[39m\u001b[39mWith n_samples=\u001b[39m\u001b[39m{}\u001b[39;00m\u001b[39m, test_size=\u001b[39m\u001b[39m{}\u001b[39;00m\u001b[39m and train_size=\u001b[39m\u001b[39m{}\u001b[39;00m\u001b[39m, the \u001b[39m\u001b[39m\"\u001b[39m\n\u001b[1;32m   2128\u001b[0m         \u001b[39m\"\u001b[39m\u001b[39mresulting train set will be empty. Adjust any of the \u001b[39m\u001b[39m\"\u001b[39m\n\u001b[1;32m   2129\u001b[0m         \u001b[39m\"\u001b[39m\u001b[39maforementioned parameters.\u001b[39m\u001b[39m\"\u001b[39m\u001b[39m.\u001b[39mformat(n_samples, test_size, train_size)\n\u001b[1;32m   2130\u001b[0m     )\n\u001b[1;32m   2132\u001b[0m \u001b[39mreturn\u001b[39;00m n_train, n_test\n",
      "\u001b[0;31mValueError\u001b[0m: With n_samples=0, test_size=0.2 and train_size=None, the resulting train set will be empty. Adjust any of the aforementioned parameters."
     ]
    }
   ],
   "source": [
    "# I suspect there will be too many images here and this will cause a stack overflow, but let's try it\n",
    "X = []\n",
    "y = []\n",
    "\n",
    "bad_reads = 0\n",
    "for sheep in sheep_raw:\n",
    "    files = sheep['File'].to_list()\n",
    "    labels = sheep['Standing'].to_list()\n",
    "    for file, label in zip(files, labels):\n",
    "        try:\n",
    "            img = cv2.imread(path, cv2.IMREAD_GRAYSCALE)\n",
    "\n",
    "            # downscale image\n",
    "            img = cv2.resize(img, (200,200))\n",
    "\n",
    "            # normalize image\n",
    "            img = img/255\n",
    "            # img = cv2.normalize(img, None, alpha=0, beta=1, norm_type=cv2.NORM_MINMAX, dtype=cv2.CV_32F)\n",
    "\n",
    "            # store image\n",
    "            X.append(img)\n",
    "            y.append(label)\n",
    "        except:\n",
    "            bad_reads += 1\n",
    "            continue\n",
    "\n",
    "print(f'Bad or missing images: {bad_reads}')\n",
    "X_train, X_test, y_train, y_test = train_test_split(X, y, test_size=0.2, stratify=y, random_state=42)"
   ]
  },
  {
   "cell_type": "code",
   "execution_count": 9,
   "metadata": {},
   "outputs": [],
   "source": [
    "def create_model(num_filters: list, kernel_sizes: list, input_shape: tuple):\n",
    "    model = models.Sequential()\n",
    "\n",
    "    model.add(layers.Conv2D(num_filters[0], (kernel_sizes[0],kernel_sizes[0]), activation='relu', input_shape=input_shape))\n",
    "    model.add(layers.MaxPooling2D((2,2)))\n",
    "\n",
    "    for i in range(1, len(kernel_sizes)):\n",
    "        model.add(layers.Conv2D(num_filters[i], (kernel_sizes[i],kernel_sizes[i]), activation='relu'))\n",
    "        model.add(layers.MaxPooling2D((2,2)))\n",
    "\n",
    "    model.add(layers.Flatten())\n",
    "    model.add(layers.Dense(64, activation='relu'))\n",
    "    model.add(layers.Dense(1))\n",
    "\n",
    "    model.compile(optimizer='adam', loss = 'binary_crossentropy', metrics=['accuracy'])\n",
    "    print(model.summary())\n",
    "\n",
    "    return model"
   ]
  },
  {
   "cell_type": "code",
   "execution_count": 10,
   "metadata": {},
   "outputs": [
    {
     "name": "stdout",
     "output_type": "stream",
     "text": [
      "Model: \"sequential_1\"\n",
      "_________________________________________________________________\n",
      " Layer (type)                Output Shape              Param #   \n",
      "=================================================================\n",
      " conv2d (Conv2D)             (None, 198, 198, 64)      640       \n",
      "                                                                 \n",
      " max_pooling2d (MaxPooling2D  (None, 99, 99, 64)       0         \n",
      " )                                                               \n",
      "                                                                 \n",
      " conv2d_1 (Conv2D)           (None, 97, 97, 32)        18464     \n",
      "                                                                 \n",
      " max_pooling2d_1 (MaxPooling  (None, 48, 48, 32)       0         \n",
      " 2D)                                                             \n",
      "                                                                 \n",
      " conv2d_2 (Conv2D)           (None, 46, 46, 16)        4624      \n",
      "                                                                 \n",
      " max_pooling2d_2 (MaxPooling  (None, 23, 23, 16)       0         \n",
      " 2D)                                                             \n",
      "                                                                 \n",
      " flatten (Flatten)           (None, 8464)              0         \n",
      "                                                                 \n",
      " dense (Dense)               (None, 64)                541760    \n",
      "                                                                 \n",
      " dense_1 (Dense)             (None, 1)                 65        \n",
      "                                                                 \n",
      "=================================================================\n",
      "Total params: 565,553\n",
      "Trainable params: 565,553\n",
      "Non-trainable params: 0\n",
      "_________________________________________________________________\n",
      "None\n"
     ]
    }
   ],
   "source": [
    "params = {\n",
    "    'num_filters': [64, 32, 16],\n",
    "    'kernel_sizes': [3, 3, 3]\n",
    "}\n",
    "\n",
    "model = create_model(params['num_filters'], params['kernel_sizes'], (200,200,1))"
   ]
  }
 ],
 "metadata": {
  "kernelspec": {
   "display_name": "Python 3.8.10 64-bit",
   "language": "python",
   "name": "python3"
  },
  "language_info": {
   "codemirror_mode": {
    "name": "ipython",
    "version": 3
   },
   "file_extension": ".py",
   "mimetype": "text/x-python",
   "name": "python",
   "nbconvert_exporter": "python",
   "pygments_lexer": "ipython3",
   "version": "3.8.10"
  },
  "orig_nbformat": 4,
  "vscode": {
   "interpreter": {
    "hash": "916dbcbb3f70747c44a77c7bcd40155683ae19c65e1c03b4aa3499c5328201f1"
   }
  }
 },
 "nbformat": 4,
 "nbformat_minor": 2
}
