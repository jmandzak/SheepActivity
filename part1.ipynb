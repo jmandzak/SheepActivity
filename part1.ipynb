{
 "cells": [
  {
   "cell_type": "markdown",
   "metadata": {},
   "source": [
    "# Part 1: Stand/Sit Detector\n",
    "### This part creates a stand/sit detector based on images of sheep and uses accelerometer data as ground truth"
   ]
  },
  {
   "cell_type": "code",
   "execution_count": 1,
   "metadata": {},
   "outputs": [],
   "source": [
    "# imports\n",
    "import pandas as pd\n",
    "import numpy as np\n",
    "import cv2\n",
    "from sklearn.model_selection import train_test_split\n",
    "\n",
    "import os\n",
    "os.environ['TF_CPP_MIN_LOG_LEVEL'] = '3'\n",
    "\n",
    "from tensorflow.keras import layers, models\n",
    "import tensorflow as tf\n",
    "tf.config.set_visible_devices([], 'GPU')\n",
    "pre_loaded = True"
   ]
  },
  {
   "cell_type": "code",
   "execution_count": 2,
   "metadata": {},
   "outputs": [],
   "source": [
    "if not pre_loaded:\n",
    "    # read in the data first\n",
    "    files = ['W.csv', 'B.csv', 'M.csv', 'P.csv', 'O_0.csv', 'N.csv', 'K.csv', 'Q.csv']\n",
    "    sheep_raw = []\n",
    "    data_dir = 'data/'\n",
    "    for file in files:\n",
    "        path = data_dir + file\n",
    "        df = pd.read_csv(path)\n",
    "        # drop unnecessary columns\n",
    "        df = df.drop(columns=df.columns[3:])\n",
    "        df = df.drop(columns=df.columns[0:1])\n",
    "\n",
    "        # rename columns\n",
    "        df.columns = ['File', 'Standing']\n",
    "\n",
    "        # change accelerometer value to 1 if standing, 0 if sitting\n",
    "        df['Standing'] = np.where(df['Standing'] < -0.4, 1, 0)\n",
    "\n",
    "        # change the timestamp to the filename for the image\n",
    "        time_stamps = df['File'].to_list()\n",
    "        file_names = []\n",
    "        for ts in time_stamps:\n",
    "            filename = ts\n",
    "            filename = filename.replace(' ', '_')\n",
    "            filename = filename.replace(':', ',')\n",
    "            filename = filename.replace('/', '-')\n",
    "            filename = filename + '.png'\n",
    "\n",
    "            # UNCOMMENT THIS LINE WHEN YOU KNOW PATH TO IMAGE FOLDER\n",
    "            filename = '/mnt/d/WhitlockSheepStudy/output' + '/' + file[0] + '/' + filename\n",
    "\n",
    "            file_names.append(filename)\n",
    "\n",
    "        df = df.assign(File=file_names)\n",
    "        sheep_raw.append(df)"
   ]
  },
  {
   "cell_type": "code",
   "execution_count": null,
   "metadata": {},
   "outputs": [],
   "source": [
    "print(os.listdir('/mnt/d/WhitlockSheepStudy/output'))"
   ]
  },
  {
   "cell_type": "code",
   "execution_count": 3,
   "metadata": {},
   "outputs": [],
   "source": [
    "if not pre_loaded:\n",
    "    # Grab images from files on the hard drive\n",
    "    X = []\n",
    "    y = []\n",
    "\n",
    "    bad_reads = 0\n",
    "    for sheep in sheep_raw:\n",
    "        files = sheep['File'].to_list()\n",
    "        labels = sheep['Standing'].to_list()\n",
    "        for file, label in zip(files, labels):\n",
    "            try:\n",
    "                img = cv2.imread(file, cv2.IMREAD_GRAYSCALE)\n",
    "                # downscale image\n",
    "                img = cv2.resize(img, (108,243))\n",
    "\n",
    "                # normalize image\n",
    "                img = img/255\n",
    "                # img = cv2.normalize(img, None, alpha=0, beta=1, norm_type=cv2.NORM_MINMAX, dtype=cv2.CV_32F)\n",
    "\n",
    "                # store image\n",
    "                X.append(img)\n",
    "                y.append(label)\n",
    "\n",
    "                # save every 100 images\n",
    "                if len(X) % 100 == 0:\n",
    "                    np.save('X.npy', np.asarray(X))\n",
    "                    np.save('y.npy', np.asarray(y))\n",
    "                    print('Saving...')\n",
    "                \n",
    "                if len(X) % 1000 == 0:\n",
    "                    break\n",
    "            except:\n",
    "                bad_reads += 1\n",
    "                continue\n",
    "\n",
    "    print(f'Bad or missing images: {bad_reads}')\n",
    "    print(f'Good images:           {len(X)}')"
   ]
  },
  {
   "cell_type": "code",
   "execution_count": 4,
   "metadata": {},
   "outputs": [],
   "source": [
    "if pre_loaded:\n",
    "    X = np.load('X.npy')\n",
    "    y = np.load('y.npy')"
   ]
  },
  {
   "cell_type": "code",
   "execution_count": 5,
   "metadata": {},
   "outputs": [],
   "source": [
    "X_train, X_test, y_train, y_test = train_test_split(X, y, test_size=0.2, stratify=y, random_state=42)"
   ]
  },
  {
   "cell_type": "code",
   "execution_count": 6,
   "metadata": {},
   "outputs": [],
   "source": [
    "def create_model(num_filters: list, kernel_sizes: list, input_shape: tuple, optimizer: str):\n",
    "    model = models.Sequential()\n",
    "\n",
    "    model.add(layers.Conv2D(num_filters[0], (kernel_sizes[0],kernel_sizes[0]), activation='relu', input_shape=input_shape))\n",
    "    model.add(layers.MaxPooling2D((2,2)))\n",
    "\n",
    "    for i in range(1, len(kernel_sizes)):\n",
    "        model.add(layers.Conv2D(num_filters[i], (kernel_sizes[i],kernel_sizes[i]), activation='relu'))\n",
    "        model.add(layers.MaxPooling2D((2,2)))\n",
    "\n",
    "    model.add(layers.Flatten())\n",
    "    model.add(layers.Dense(64, activation='relu'))\n",
    "    model.add(layers.Dense(1, activation='sigmoid'))\n",
    "\n",
    "    model.compile(optimizer=optimizer, loss = 'binary_crossentropy', metrics=['accuracy'])\n",
    "    # print(model.summary())\n",
    "\n",
    "    return model"
   ]
  },
  {
   "cell_type": "code",
   "execution_count": 7,
   "metadata": {},
   "outputs": [],
   "source": [
    "params = {\n",
    "    'num_filters': [64, 32, 16],\n",
    "    'kernel_sizes': [3, 3, 3]\n",
    "}\n",
    "\n",
    "X_train_np = np.array(X_train)\n",
    "X_train_np = X_train_np.reshape(X_train_np.shape[0], X_train_np.shape[1], X_train_np.shape[2], 1)\n",
    "X_test_np = np.array(X_test)\n",
    "X_test_np = X_test_np.reshape(X_test_np.shape[0], X_test_np.shape[1], X_test_np.shape[2], 1)\n",
    "\n",
    "y_train_np = np.array(y_train)\n",
    "y_test_np = np.array(y_test)\n",
    "\n",
    "model = create_model(params['num_filters'], params['kernel_sizes'], X_train_np[0].shape, 'sgd')"
   ]
  },
  {
   "cell_type": "code",
   "execution_count": 8,
   "metadata": {},
   "outputs": [],
   "source": [
    "del X_train\n",
    "del X_test\n",
    "del y_train\n",
    "del y_test"
   ]
  },
  {
   "cell_type": "code",
   "execution_count": 30,
   "metadata": {},
   "outputs": [
    {
     "name": "stdout",
     "output_type": "stream",
     "text": [
      "<class 'numpy.float64'>\n"
     ]
    }
   ],
   "source": [
    "print(type(X_train_np[0][0][0][0]))"
   ]
  },
  {
   "cell_type": "code",
   "execution_count": null,
   "metadata": {},
   "outputs": [],
   "source": [
    "# # create tf dataset to save space\n",
    "# train_dataset = tf.data.Dataset.from_tensor_slices((X_train_np, y_train_np))\n",
    "# test_dataset = tf.data.Dataset.from_tensor_slices((X_test_np, y_test_np))"
   ]
  },
  {
   "cell_type": "code",
   "execution_count": 11,
   "metadata": {},
   "outputs": [
    {
     "name": "stdout",
     "output_type": "stream",
     "text": [
      "Epoch 1/10\n",
      "400/400 [==============================] - 20s 24ms/step - loss: 0.6778 - accuracy: 0.5911 - val_loss: 0.6478 - val_accuracy: 0.7013\n",
      "Epoch 2/10\n",
      "400/400 [==============================] - 9s 23ms/step - loss: 0.6157 - accuracy: 0.6755 - val_loss: 0.5861 - val_accuracy: 0.7206\n",
      "Epoch 3/10\n",
      "400/400 [==============================] - 9s 24ms/step - loss: 0.5680 - accuracy: 0.7077 - val_loss: 0.5354 - val_accuracy: 0.7419\n",
      "Epoch 4/10\n",
      "400/400 [==============================] - 10s 24ms/step - loss: 0.5264 - accuracy: 0.7398 - val_loss: 0.5035 - val_accuracy: 0.7556\n",
      "Epoch 5/10\n",
      "400/400 [==============================] - 10s 25ms/step - loss: 0.4822 - accuracy: 0.7722 - val_loss: 0.4750 - val_accuracy: 0.7856\n",
      "Epoch 6/10\n",
      "400/400 [==============================] - 18s 45ms/step - loss: 0.4448 - accuracy: 0.8036 - val_loss: 0.4134 - val_accuracy: 0.8225\n",
      "Epoch 7/10\n",
      "400/400 [==============================] - 40s 99ms/step - loss: 0.4055 - accuracy: 0.8242 - val_loss: 0.3965 - val_accuracy: 0.8269\n",
      "Epoch 8/10\n",
      "400/400 [==============================] - 15s 38ms/step - loss: 0.3662 - accuracy: 0.8509 - val_loss: 0.3517 - val_accuracy: 0.8525\n",
      "Epoch 9/10\n",
      "400/400 [==============================] - 17s 43ms/step - loss: 0.3185 - accuracy: 0.8717 - val_loss: 0.3151 - val_accuracy: 0.8900\n",
      "Epoch 10/10\n",
      "400/400 [==============================] - 38s 94ms/step - loss: 0.2820 - accuracy: 0.8916 - val_loss: 0.2563 - val_accuracy: 0.9181\n"
     ]
    }
   ],
   "source": [
    "# train the model\n",
    "es = tf.keras.callbacks.EarlyStopping(monitor='loss', patience=3)\n",
    "\n",
    "history = model.fit(X_train_np, y_train_np, epochs=50, validation_data=(X_test_np, y_test_np), batch_size=16, callbacks=[es])"
   ]
  },
  {
   "cell_type": "code",
   "execution_count": 12,
   "metadata": {},
   "outputs": [
    {
     "name": "stderr",
     "output_type": "stream",
     "text": [
      "WARNING:absl:Found untraced functions such as _jit_compiled_convolution_op, _jit_compiled_convolution_op, _jit_compiled_convolution_op while saving (showing 3 of 3). These functions will not be directly callable after loading.\n"
     ]
    },
    {
     "name": "stdout",
     "output_type": "stream",
     "text": [
      "INFO:tensorflow:Assets written to: models/ten_epoch_SGD/assets\n"
     ]
    },
    {
     "name": "stderr",
     "output_type": "stream",
     "text": [
      "INFO:tensorflow:Assets written to: models/ten_epoch_SGD/assets\n"
     ]
    }
   ],
   "source": [
    "# save the model\n",
    "model.save('models/ten_epoch_SGD')"
   ]
  },
  {
   "cell_type": "code",
   "execution_count": 9,
   "metadata": {},
   "outputs": [
    {
     "name": "stdout",
     "output_type": "stream",
     "text": [
      "Epoch 1/50\n",
      "400/400 [==============================] - 21s 50ms/step - loss: 0.5462 - accuracy: 0.7195 - val_loss: 0.3831 - val_accuracy: 0.8525\n",
      "Epoch 2/50\n",
      "400/400 [==============================] - 21s 53ms/step - loss: 0.2996 - accuracy: 0.8788 - val_loss: 0.2286 - val_accuracy: 0.9181\n",
      "Epoch 3/50\n",
      "400/400 [==============================] - 18s 45ms/step - loss: 0.1896 - accuracy: 0.9311 - val_loss: 0.1678 - val_accuracy: 0.9525\n",
      "Epoch 4/50\n",
      "400/400 [==============================] - 18s 45ms/step - loss: 0.1455 - accuracy: 0.9495 - val_loss: 0.1501 - val_accuracy: 0.9544\n",
      "Epoch 5/50\n",
      "400/400 [==============================] - 19s 47ms/step - loss: 0.1163 - accuracy: 0.9605 - val_loss: 0.1518 - val_accuracy: 0.9619\n",
      "Epoch 6/50\n",
      "400/400 [==============================] - 18s 44ms/step - loss: 0.0947 - accuracy: 0.9709 - val_loss: 0.1990 - val_accuracy: 0.9425\n",
      "Epoch 7/50\n",
      "400/400 [==============================] - 17s 43ms/step - loss: 0.0853 - accuracy: 0.9708 - val_loss: 0.1184 - val_accuracy: 0.9669\n",
      "Epoch 8/50\n",
      "400/400 [==============================] - 18s 44ms/step - loss: 0.0729 - accuracy: 0.9762 - val_loss: 0.1262 - val_accuracy: 0.9613\n",
      "Epoch 9/50\n",
      "400/400 [==============================] - 17s 43ms/step - loss: 0.0694 - accuracy: 0.9758 - val_loss: 0.1366 - val_accuracy: 0.9631\n",
      "Epoch 10/50\n",
      "400/400 [==============================] - 17s 43ms/step - loss: 0.0567 - accuracy: 0.9794 - val_loss: 0.1165 - val_accuracy: 0.9675\n",
      "Epoch 11/50\n",
      "400/400 [==============================] - 17s 43ms/step - loss: 0.0527 - accuracy: 0.9816 - val_loss: 0.1428 - val_accuracy: 0.9675\n",
      "Epoch 12/50\n",
      "400/400 [==============================] - 17s 43ms/step - loss: 0.0515 - accuracy: 0.9825 - val_loss: 0.1301 - val_accuracy: 0.9669\n",
      "Epoch 13/50\n",
      "400/400 [==============================] - 17s 44ms/step - loss: 0.0461 - accuracy: 0.9837 - val_loss: 0.1426 - val_accuracy: 0.9600\n"
     ]
    },
    {
     "name": "stderr",
     "output_type": "stream",
     "text": [
      "WARNING:absl:Found untraced functions such as _jit_compiled_convolution_op, _jit_compiled_convolution_op, _jit_compiled_convolution_op while saving (showing 3 of 3). These functions will not be directly callable after loading.\n"
     ]
    },
    {
     "name": "stdout",
     "output_type": "stream",
     "text": [
      "INFO:tensorflow:Assets written to: models/model_0_0_2/assets\n"
     ]
    },
    {
     "name": "stderr",
     "output_type": "stream",
     "text": [
      "INFO:tensorflow:Assets written to: models/model_0_0_2/assets\n"
     ]
    },
    {
     "name": "stdout",
     "output_type": "stream",
     "text": [
      "Epoch 1/50\n",
      "400/400 [==============================] - 19s 46ms/step - loss: 0.6855 - accuracy: 0.5616 - val_loss: 0.6778 - val_accuracy: 0.6488\n",
      "Epoch 2/50\n",
      "400/400 [==============================] - 17s 41ms/step - loss: 0.6573 - accuracy: 0.6577 - val_loss: 0.6253 - val_accuracy: 0.6944\n",
      "Epoch 3/50\n",
      "400/400 [==============================] - 15s 38ms/step - loss: 0.6045 - accuracy: 0.6958 - val_loss: 0.5747 - val_accuracy: 0.7038\n",
      "Epoch 4/50\n",
      "400/400 [==============================] - 16s 40ms/step - loss: 0.5626 - accuracy: 0.7125 - val_loss: 0.5399 - val_accuracy: 0.7350\n",
      "Epoch 5/50\n",
      "400/400 [==============================] - 16s 39ms/step - loss: 0.5255 - accuracy: 0.7336 - val_loss: 0.5093 - val_accuracy: 0.7444\n",
      "Epoch 6/50\n",
      "400/400 [==============================] - 16s 39ms/step - loss: 0.4884 - accuracy: 0.7702 - val_loss: 0.4628 - val_accuracy: 0.8181\n",
      "Epoch 7/50\n",
      "400/400 [==============================] - 15s 39ms/step - loss: 0.4460 - accuracy: 0.8034 - val_loss: 0.4490 - val_accuracy: 0.7688\n",
      "Epoch 8/50\n",
      "400/400 [==============================] - 16s 39ms/step - loss: 0.4125 - accuracy: 0.8272 - val_loss: 0.3810 - val_accuracy: 0.8700\n",
      "Epoch 9/50\n",
      "400/400 [==============================] - 16s 39ms/step - loss: 0.3691 - accuracy: 0.8506 - val_loss: 0.4091 - val_accuracy: 0.8094\n",
      "Epoch 10/50\n",
      "400/400 [==============================] - 15s 38ms/step - loss: 0.3382 - accuracy: 0.8658 - val_loss: 0.3666 - val_accuracy: 0.8406\n",
      "Epoch 11/50\n",
      "400/400 [==============================] - 16s 39ms/step - loss: 0.2920 - accuracy: 0.8925 - val_loss: 0.2897 - val_accuracy: 0.9119\n",
      "Epoch 12/50\n",
      "400/400 [==============================] - 16s 39ms/step - loss: 0.2691 - accuracy: 0.9006 - val_loss: 0.2516 - val_accuracy: 0.9187\n",
      "Epoch 13/50\n",
      "400/400 [==============================] - 15s 39ms/step - loss: 0.2376 - accuracy: 0.9148 - val_loss: 0.3131 - val_accuracy: 0.8694\n",
      "Epoch 14/50\n",
      "400/400 [==============================] - 16s 40ms/step - loss: 0.2111 - accuracy: 0.9291 - val_loss: 0.2264 - val_accuracy: 0.9300\n",
      "Epoch 15/50\n",
      "400/400 [==============================] - 16s 39ms/step - loss: 0.1922 - accuracy: 0.9323 - val_loss: 0.2055 - val_accuracy: 0.9525\n",
      "Epoch 16/50\n",
      "400/400 [==============================] - 15s 39ms/step - loss: 0.1651 - accuracy: 0.9439 - val_loss: 0.1893 - val_accuracy: 0.9538\n",
      "Epoch 17/50\n",
      "400/400 [==============================] - 16s 39ms/step - loss: 0.1523 - accuracy: 0.9453 - val_loss: 0.2723 - val_accuracy: 0.9331\n",
      "Epoch 18/50\n",
      "400/400 [==============================] - 16s 39ms/step - loss: 0.1428 - accuracy: 0.9509 - val_loss: 0.1935 - val_accuracy: 0.9519\n",
      "Epoch 19/50\n",
      "400/400 [==============================] - 15s 39ms/step - loss: 0.1300 - accuracy: 0.9564 - val_loss: 0.2126 - val_accuracy: 0.9281\n"
     ]
    },
    {
     "name": "stderr",
     "output_type": "stream",
     "text": [
      "WARNING:absl:Found untraced functions such as _jit_compiled_convolution_op, _jit_compiled_convolution_op, _jit_compiled_convolution_op while saving (showing 3 of 3). These functions will not be directly callable after loading.\n"
     ]
    },
    {
     "name": "stdout",
     "output_type": "stream",
     "text": [
      "INFO:tensorflow:Assets written to: models/model_0_1_0/assets\n"
     ]
    },
    {
     "name": "stderr",
     "output_type": "stream",
     "text": [
      "INFO:tensorflow:Assets written to: models/model_0_1_0/assets\n"
     ]
    },
    {
     "name": "stdout",
     "output_type": "stream",
     "text": [
      "Epoch 1/50\n",
      "400/400 [==============================] - 19s 45ms/step - loss: 0.5230 - accuracy: 0.7377 - val_loss: 0.3698 - val_accuracy: 0.8731\n",
      "Epoch 2/50\n",
      "400/400 [==============================] - 16s 41ms/step - loss: 0.2936 - accuracy: 0.8928 - val_loss: 0.2344 - val_accuracy: 0.9169\n",
      "Epoch 3/50\n",
      "400/400 [==============================] - 15s 39ms/step - loss: 0.2017 - accuracy: 0.9287 - val_loss: 0.1842 - val_accuracy: 0.9438\n",
      "Epoch 4/50\n",
      "400/400 [==============================] - 16s 40ms/step - loss: 0.1462 - accuracy: 0.9536 - val_loss: 0.1598 - val_accuracy: 0.9519\n",
      "Epoch 5/50\n",
      "400/400 [==============================] - 16s 39ms/step - loss: 0.1223 - accuracy: 0.9569 - val_loss: 0.1765 - val_accuracy: 0.9494\n",
      "Epoch 6/50\n",
      "400/400 [==============================] - 15s 39ms/step - loss: 0.1092 - accuracy: 0.9644 - val_loss: 0.1420 - val_accuracy: 0.9606\n",
      "Epoch 7/50\n",
      "400/400 [==============================] - 16s 39ms/step - loss: 0.0938 - accuracy: 0.9686 - val_loss: 0.1481 - val_accuracy: 0.9631\n",
      "Epoch 8/50\n",
      "400/400 [==============================] - 16s 39ms/step - loss: 0.0772 - accuracy: 0.9737 - val_loss: 0.1641 - val_accuracy: 0.9638\n",
      "Epoch 9/50\n",
      "400/400 [==============================] - 15s 39ms/step - loss: 0.0737 - accuracy: 0.9747 - val_loss: 0.2545 - val_accuracy: 0.9181\n"
     ]
    },
    {
     "name": "stderr",
     "output_type": "stream",
     "text": [
      "WARNING:absl:Found untraced functions such as _jit_compiled_convolution_op, _jit_compiled_convolution_op, _jit_compiled_convolution_op while saving (showing 3 of 3). These functions will not be directly callable after loading.\n"
     ]
    },
    {
     "name": "stdout",
     "output_type": "stream",
     "text": [
      "INFO:tensorflow:Assets written to: models/model_0_1_1/assets\n"
     ]
    },
    {
     "name": "stderr",
     "output_type": "stream",
     "text": [
      "INFO:tensorflow:Assets written to: models/model_0_1_1/assets\n"
     ]
    },
    {
     "name": "stdout",
     "output_type": "stream",
     "text": [
      "Epoch 1/50\n",
      "400/400 [==============================] - 19s 45ms/step - loss: 0.5354 - accuracy: 0.7311 - val_loss: 0.4249 - val_accuracy: 0.8444\n",
      "Epoch 2/50\n",
      "400/400 [==============================] - 16s 41ms/step - loss: 0.3313 - accuracy: 0.8730 - val_loss: 0.2381 - val_accuracy: 0.9256\n",
      "Epoch 3/50\n",
      "400/400 [==============================] - 15s 39ms/step - loss: 0.2224 - accuracy: 0.9156 - val_loss: 0.1917 - val_accuracy: 0.9356\n",
      "Epoch 4/50\n",
      "400/400 [==============================] - 16s 39ms/step - loss: 0.1685 - accuracy: 0.9428 - val_loss: 0.1544 - val_accuracy: 0.9550\n",
      "Epoch 5/50\n",
      "400/400 [==============================] - 16s 40ms/step - loss: 0.1337 - accuracy: 0.9561 - val_loss: 0.1501 - val_accuracy: 0.9544\n",
      "Epoch 6/50\n",
      "400/400 [==============================] - 16s 39ms/step - loss: 0.1120 - accuracy: 0.9625 - val_loss: 0.1402 - val_accuracy: 0.9588\n",
      "Epoch 7/50\n",
      "400/400 [==============================] - 15s 38ms/step - loss: 0.0917 - accuracy: 0.9697 - val_loss: 0.1254 - val_accuracy: 0.9600\n",
      "Epoch 8/50\n",
      "400/400 [==============================] - 16s 39ms/step - loss: 0.0793 - accuracy: 0.9748 - val_loss: 0.1282 - val_accuracy: 0.9638\n",
      "Epoch 9/50\n",
      "400/400 [==============================] - 16s 39ms/step - loss: 0.0691 - accuracy: 0.9756 - val_loss: 0.1298 - val_accuracy: 0.9706\n",
      "Epoch 10/50\n",
      "400/400 [==============================] - 16s 39ms/step - loss: 0.0619 - accuracy: 0.9805 - val_loss: 0.1380 - val_accuracy: 0.9644\n"
     ]
    },
    {
     "name": "stderr",
     "output_type": "stream",
     "text": [
      "WARNING:absl:Found untraced functions such as _jit_compiled_convolution_op, _jit_compiled_convolution_op, _jit_compiled_convolution_op while saving (showing 3 of 3). These functions will not be directly callable after loading.\n"
     ]
    },
    {
     "name": "stdout",
     "output_type": "stream",
     "text": [
      "INFO:tensorflow:Assets written to: models/model_0_1_2/assets\n"
     ]
    },
    {
     "name": "stderr",
     "output_type": "stream",
     "text": [
      "INFO:tensorflow:Assets written to: models/model_0_1_2/assets\n"
     ]
    },
    {
     "name": "stdout",
     "output_type": "stream",
     "text": [
      "Epoch 1/50\n",
      "400/400 [==============================] - 42s 101ms/step - loss: 0.6715 - accuracy: 0.6044 - val_loss: 0.6618 - val_accuracy: 0.5437\n",
      "Epoch 2/50\n",
      "400/400 [==============================] - 38s 96ms/step - loss: 0.6019 - accuracy: 0.6864 - val_loss: 0.5672 - val_accuracy: 0.7225\n",
      "Epoch 3/50\n",
      "400/400 [==============================] - 39s 96ms/step - loss: 0.5511 - accuracy: 0.7178 - val_loss: 0.5199 - val_accuracy: 0.7613\n",
      "Epoch 4/50\n",
      "400/400 [==============================] - 38s 95ms/step - loss: 0.5059 - accuracy: 0.7539 - val_loss: 0.4742 - val_accuracy: 0.8081\n",
      "Epoch 5/50\n",
      "400/400 [==============================] - 38s 96ms/step - loss: 0.4604 - accuracy: 0.7945 - val_loss: 0.4365 - val_accuracy: 0.8238\n",
      "Epoch 6/50\n",
      "400/400 [==============================] - 38s 95ms/step - loss: 0.4190 - accuracy: 0.8152 - val_loss: 0.3903 - val_accuracy: 0.8494\n",
      "Epoch 7/50\n",
      "400/400 [==============================] - 38s 96ms/step - loss: 0.3671 - accuracy: 0.8531 - val_loss: 0.3754 - val_accuracy: 0.8544\n",
      "Epoch 8/50\n",
      "400/400 [==============================] - 38s 95ms/step - loss: 0.3177 - accuracy: 0.8805 - val_loss: 0.3131 - val_accuracy: 0.9038\n",
      "Epoch 9/50\n",
      "400/400 [==============================] - 38s 96ms/step - loss: 0.2704 - accuracy: 0.8958 - val_loss: 0.3477 - val_accuracy: 0.8481\n",
      "Epoch 10/50\n",
      "400/400 [==============================] - 38s 96ms/step - loss: 0.2253 - accuracy: 0.9194 - val_loss: 0.2096 - val_accuracy: 0.9250\n",
      "Epoch 11/50\n",
      "400/400 [==============================] - 38s 96ms/step - loss: 0.1915 - accuracy: 0.9302 - val_loss: 0.2394 - val_accuracy: 0.9069\n",
      "Epoch 12/50\n",
      "400/400 [==============================] - 38s 95ms/step - loss: 0.1668 - accuracy: 0.9417 - val_loss: 0.1684 - val_accuracy: 0.9431\n",
      "Epoch 13/50\n",
      "400/400 [==============================] - 39s 97ms/step - loss: 0.1434 - accuracy: 0.9509 - val_loss: 0.1538 - val_accuracy: 0.9544\n",
      "Epoch 14/50\n",
      "400/400 [==============================] - 39s 97ms/step - loss: 0.1220 - accuracy: 0.9589 - val_loss: 0.1764 - val_accuracy: 0.9531\n",
      "Epoch 15/50\n",
      "400/400 [==============================] - 39s 98ms/step - loss: 0.1144 - accuracy: 0.9605 - val_loss: 0.1823 - val_accuracy: 0.9356\n",
      "Epoch 16/50\n",
      "400/400 [==============================] - 39s 97ms/step - loss: 0.1046 - accuracy: 0.9636 - val_loss: 0.1540 - val_accuracy: 0.9538\n"
     ]
    },
    {
     "name": "stderr",
     "output_type": "stream",
     "text": [
      "WARNING:absl:Found untraced functions such as _jit_compiled_convolution_op, _jit_compiled_convolution_op, _jit_compiled_convolution_op while saving (showing 3 of 3). These functions will not be directly callable after loading.\n"
     ]
    },
    {
     "name": "stdout",
     "output_type": "stream",
     "text": [
      "INFO:tensorflow:Assets written to: models/model_1_0_0/assets\n"
     ]
    },
    {
     "name": "stderr",
     "output_type": "stream",
     "text": [
      "INFO:tensorflow:Assets written to: models/model_1_0_0/assets\n"
     ]
    },
    {
     "name": "stdout",
     "output_type": "stream",
     "text": [
      "Epoch 1/50\n",
      "400/400 [==============================] - 43s 104ms/step - loss: 0.5616 - accuracy: 0.7084 - val_loss: 0.4169 - val_accuracy: 0.8344\n",
      "Epoch 2/50\n",
      "400/400 [==============================] - 39s 97ms/step - loss: 0.3659 - accuracy: 0.8462 - val_loss: 0.2608 - val_accuracy: 0.8938\n",
      "Epoch 3/50\n",
      "400/400 [==============================] - 39s 97ms/step - loss: 0.2168 - accuracy: 0.9183 - val_loss: 0.1794 - val_accuracy: 0.9494\n",
      "Epoch 4/50\n",
      "400/400 [==============================] - 38s 96ms/step - loss: 0.1452 - accuracy: 0.9492 - val_loss: 0.1649 - val_accuracy: 0.9463\n",
      "Epoch 5/50\n",
      "400/400 [==============================] - 38s 96ms/step - loss: 0.1186 - accuracy: 0.9589 - val_loss: 0.1408 - val_accuracy: 0.9638\n",
      "Epoch 6/50\n",
      "400/400 [==============================] - 38s 96ms/step - loss: 0.0984 - accuracy: 0.9670 - val_loss: 0.1462 - val_accuracy: 0.9494\n",
      "Epoch 7/50\n",
      "400/400 [==============================] - 38s 96ms/step - loss: 0.0813 - accuracy: 0.9734 - val_loss: 0.1305 - val_accuracy: 0.9681\n",
      "Epoch 8/50\n",
      "400/400 [==============================] - 38s 96ms/step - loss: 0.0753 - accuracy: 0.9736 - val_loss: 0.1359 - val_accuracy: 0.9663\n",
      "Epoch 9/50\n",
      "400/400 [==============================] - 38s 96ms/step - loss: 0.0672 - accuracy: 0.9759 - val_loss: 0.1917 - val_accuracy: 0.9494\n",
      "Epoch 10/50\n",
      "400/400 [==============================] - 38s 96ms/step - loss: 0.0581 - accuracy: 0.9791 - val_loss: 0.1296 - val_accuracy: 0.9625\n",
      "Epoch 11/50\n",
      "400/400 [==============================] - 38s 96ms/step - loss: 0.0564 - accuracy: 0.9809 - val_loss: 0.1220 - val_accuracy: 0.9712\n",
      "Epoch 12/50\n",
      "400/400 [==============================] - 38s 96ms/step - loss: 0.0411 - accuracy: 0.9864 - val_loss: 0.1564 - val_accuracy: 0.9694\n",
      "Epoch 13/50\n",
      "400/400 [==============================] - 38s 96ms/step - loss: 0.0429 - accuracy: 0.9831 - val_loss: 0.1775 - val_accuracy: 0.9581\n",
      "Epoch 14/50\n",
      "400/400 [==============================] - 38s 96ms/step - loss: 0.0379 - accuracy: 0.9870 - val_loss: 0.1382 - val_accuracy: 0.9700\n"
     ]
    },
    {
     "name": "stderr",
     "output_type": "stream",
     "text": [
      "WARNING:absl:Found untraced functions such as _jit_compiled_convolution_op, _jit_compiled_convolution_op, _jit_compiled_convolution_op while saving (showing 3 of 3). These functions will not be directly callable after loading.\n"
     ]
    },
    {
     "name": "stdout",
     "output_type": "stream",
     "text": [
      "INFO:tensorflow:Assets written to: models/model_1_0_1/assets\n"
     ]
    },
    {
     "name": "stderr",
     "output_type": "stream",
     "text": [
      "INFO:tensorflow:Assets written to: models/model_1_0_1/assets\n"
     ]
    },
    {
     "name": "stdout",
     "output_type": "stream",
     "text": [
      "Epoch 1/50\n",
      "400/400 [==============================] - 42s 103ms/step - loss: 0.5842 - accuracy: 0.6797 - val_loss: 0.7682 - val_accuracy: 0.6100\n",
      "Epoch 2/50\n",
      "400/400 [==============================] - 39s 97ms/step - loss: 0.3257 - accuracy: 0.8705 - val_loss: 0.3643 - val_accuracy: 0.8706\n",
      "Epoch 3/50\n",
      "400/400 [==============================] - 39s 97ms/step - loss: 0.1780 - accuracy: 0.9347 - val_loss: 0.1731 - val_accuracy: 0.9456\n",
      "Epoch 4/50\n",
      "400/400 [==============================] - 38s 96ms/step - loss: 0.1303 - accuracy: 0.9539 - val_loss: 0.1666 - val_accuracy: 0.9425\n",
      "Epoch 5/50\n",
      "400/400 [==============================] - 38s 96ms/step - loss: 0.1059 - accuracy: 0.9645 - val_loss: 0.1290 - val_accuracy: 0.9619\n",
      "Epoch 6/50\n",
      "400/400 [==============================] - 38s 95ms/step - loss: 0.0930 - accuracy: 0.9694 - val_loss: 0.1403 - val_accuracy: 0.9550\n",
      "Epoch 7/50\n",
      "400/400 [==============================] - 39s 97ms/step - loss: 0.0779 - accuracy: 0.9742 - val_loss: 0.1144 - val_accuracy: 0.9694\n",
      "Epoch 8/50\n",
      "400/400 [==============================] - 38s 95ms/step - loss: 0.0672 - accuracy: 0.9772 - val_loss: 0.1643 - val_accuracy: 0.9606\n",
      "Epoch 9/50\n",
      "400/400 [==============================] - 38s 96ms/step - loss: 0.0593 - accuracy: 0.9805 - val_loss: 0.1383 - val_accuracy: 0.9675\n",
      "Epoch 10/50\n",
      "400/400 [==============================] - 38s 96ms/step - loss: 0.0513 - accuracy: 0.9833 - val_loss: 0.1439 - val_accuracy: 0.9712\n"
     ]
    },
    {
     "name": "stderr",
     "output_type": "stream",
     "text": [
      "WARNING:absl:Found untraced functions such as _jit_compiled_convolution_op, _jit_compiled_convolution_op, _jit_compiled_convolution_op while saving (showing 3 of 3). These functions will not be directly callable after loading.\n"
     ]
    },
    {
     "name": "stdout",
     "output_type": "stream",
     "text": [
      "INFO:tensorflow:Assets written to: models/model_1_0_2/assets\n"
     ]
    },
    {
     "name": "stderr",
     "output_type": "stream",
     "text": [
      "INFO:tensorflow:Assets written to: models/model_1_0_2/assets\n"
     ]
    },
    {
     "name": "stdout",
     "output_type": "stream",
     "text": [
      "Epoch 1/50\n",
      "400/400 [==============================] - 36s 87ms/step - loss: 0.6629 - accuracy: 0.6187 - val_loss: 0.6205 - val_accuracy: 0.6981\n",
      "Epoch 2/50\n",
      "400/400 [==============================] - 33s 82ms/step - loss: 0.5920 - accuracy: 0.6992 - val_loss: 0.5602 - val_accuracy: 0.7125\n",
      "Epoch 3/50\n",
      "400/400 [==============================] - 32s 80ms/step - loss: 0.5486 - accuracy: 0.7209 - val_loss: 0.5458 - val_accuracy: 0.7506\n",
      "Epoch 4/50\n",
      "400/400 [==============================] - 32s 80ms/step - loss: 0.5054 - accuracy: 0.7517 - val_loss: 0.4881 - val_accuracy: 0.7606\n",
      "Epoch 5/50\n",
      "400/400 [==============================] - 32s 80ms/step - loss: 0.4758 - accuracy: 0.7850 - val_loss: 0.4498 - val_accuracy: 0.7919\n",
      "Epoch 6/50\n",
      "400/400 [==============================] - 32s 80ms/step - loss: 0.4434 - accuracy: 0.8097 - val_loss: 0.4848 - val_accuracy: 0.7575\n",
      "Epoch 7/50\n",
      "400/400 [==============================] - 32s 80ms/step - loss: 0.4085 - accuracy: 0.8298 - val_loss: 0.4512 - val_accuracy: 0.8031\n",
      "Epoch 8/50\n",
      "400/400 [==============================] - 32s 80ms/step - loss: 0.3814 - accuracy: 0.8464 - val_loss: 0.3635 - val_accuracy: 0.8462\n",
      "Epoch 9/50\n",
      "400/400 [==============================] - 32s 81ms/step - loss: 0.3436 - accuracy: 0.8591 - val_loss: 0.3763 - val_accuracy: 0.8675\n",
      "Epoch 10/50\n",
      "400/400 [==============================] - 32s 80ms/step - loss: 0.3103 - accuracy: 0.8797 - val_loss: 0.3424 - val_accuracy: 0.8475\n",
      "Epoch 11/50\n",
      "400/400 [==============================] - 31s 78ms/step - loss: 0.2888 - accuracy: 0.8913 - val_loss: 0.3339 - val_accuracy: 0.8550\n",
      "Epoch 12/50\n",
      "400/400 [==============================] - 31s 78ms/step - loss: 0.2500 - accuracy: 0.9067 - val_loss: 0.2661 - val_accuracy: 0.8963\n",
      "Epoch 13/50\n",
      "400/400 [==============================] - 31s 78ms/step - loss: 0.2160 - accuracy: 0.9222 - val_loss: 0.2157 - val_accuracy: 0.9281\n",
      "Epoch 14/50\n",
      "400/400 [==============================] - 31s 79ms/step - loss: 0.1952 - accuracy: 0.9339 - val_loss: 0.2085 - val_accuracy: 0.9388\n",
      "Epoch 15/50\n",
      "400/400 [==============================] - 31s 78ms/step - loss: 0.1712 - accuracy: 0.9416 - val_loss: 0.1957 - val_accuracy: 0.9337\n",
      "Epoch 16/50\n",
      "400/400 [==============================] - 32s 79ms/step - loss: 0.1538 - accuracy: 0.9459 - val_loss: 0.1904 - val_accuracy: 0.9456\n",
      "Epoch 17/50\n",
      "400/400 [==============================] - 32s 79ms/step - loss: 0.1426 - accuracy: 0.9494 - val_loss: 0.1697 - val_accuracy: 0.9513\n",
      "Epoch 18/50\n",
      "400/400 [==============================] - 32s 79ms/step - loss: 0.1238 - accuracy: 0.9578 - val_loss: 0.1691 - val_accuracy: 0.9613\n",
      "Epoch 19/50\n",
      "400/400 [==============================] - 32s 80ms/step - loss: 0.1161 - accuracy: 0.9592 - val_loss: 0.1406 - val_accuracy: 0.9606\n",
      "Epoch 20/50\n",
      "400/400 [==============================] - 32s 79ms/step - loss: 0.1066 - accuracy: 0.9638 - val_loss: 0.1386 - val_accuracy: 0.9619\n",
      "Epoch 21/50\n",
      "400/400 [==============================] - 32s 80ms/step - loss: 0.1000 - accuracy: 0.9678 - val_loss: 0.1379 - val_accuracy: 0.9638\n",
      "Epoch 22/50\n",
      "400/400 [==============================] - 32s 79ms/step - loss: 0.0960 - accuracy: 0.9644 - val_loss: 0.1425 - val_accuracy: 0.9644\n",
      "Epoch 23/50\n",
      "400/400 [==============================] - 32s 80ms/step - loss: 0.0837 - accuracy: 0.9722 - val_loss: 0.1470 - val_accuracy: 0.9650\n",
      "Epoch 24/50\n",
      "400/400 [==============================] - 33s 82ms/step - loss: 0.0823 - accuracy: 0.9725 - val_loss: 0.1538 - val_accuracy: 0.9600\n"
     ]
    },
    {
     "name": "stderr",
     "output_type": "stream",
     "text": [
      "WARNING:absl:Found untraced functions such as _jit_compiled_convolution_op, _jit_compiled_convolution_op, _jit_compiled_convolution_op while saving (showing 3 of 3). These functions will not be directly callable after loading.\n"
     ]
    },
    {
     "name": "stdout",
     "output_type": "stream",
     "text": [
      "INFO:tensorflow:Assets written to: models/model_1_1_0/assets\n"
     ]
    },
    {
     "name": "stderr",
     "output_type": "stream",
     "text": [
      "INFO:tensorflow:Assets written to: models/model_1_1_0/assets\n"
     ]
    },
    {
     "name": "stdout",
     "output_type": "stream",
     "text": [
      "Epoch 1/50\n",
      "400/400 [==============================] - 36s 87ms/step - loss: 0.5155 - accuracy: 0.7359 - val_loss: 0.3327 - val_accuracy: 0.8763\n",
      "Epoch 2/50\n",
      "400/400 [==============================] - 33s 82ms/step - loss: 0.2804 - accuracy: 0.8917 - val_loss: 0.2372 - val_accuracy: 0.9219\n",
      "Epoch 3/50\n",
      "400/400 [==============================] - 32s 81ms/step - loss: 0.1872 - accuracy: 0.9292 - val_loss: 0.1565 - val_accuracy: 0.9556\n",
      "Epoch 4/50\n",
      "400/400 [==============================] - 32s 81ms/step - loss: 0.1413 - accuracy: 0.9520 - val_loss: 0.1832 - val_accuracy: 0.9350\n",
      "Epoch 5/50\n",
      "400/400 [==============================] - 32s 81ms/step - loss: 0.1177 - accuracy: 0.9580 - val_loss: 0.1784 - val_accuracy: 0.9319\n",
      "Epoch 6/50\n",
      "400/400 [==============================] - 32s 80ms/step - loss: 0.1011 - accuracy: 0.9667 - val_loss: 0.1401 - val_accuracy: 0.9500\n",
      "Epoch 7/50\n",
      "400/400 [==============================] - 32s 81ms/step - loss: 0.0810 - accuracy: 0.9720 - val_loss: 0.1322 - val_accuracy: 0.9600\n",
      "Epoch 8/50\n",
      "400/400 [==============================] - 32s 81ms/step - loss: 0.0648 - accuracy: 0.9786 - val_loss: 0.1407 - val_accuracy: 0.9625\n",
      "Epoch 9/50\n",
      "400/400 [==============================] - 32s 81ms/step - loss: 0.0707 - accuracy: 0.9764 - val_loss: 0.1381 - val_accuracy: 0.9694\n",
      "Epoch 10/50\n",
      "400/400 [==============================] - 33s 81ms/step - loss: 0.0573 - accuracy: 0.9787 - val_loss: 0.1881 - val_accuracy: 0.9556\n"
     ]
    },
    {
     "name": "stderr",
     "output_type": "stream",
     "text": [
      "WARNING:absl:Found untraced functions such as _jit_compiled_convolution_op, _jit_compiled_convolution_op, _jit_compiled_convolution_op while saving (showing 3 of 3). These functions will not be directly callable after loading.\n"
     ]
    },
    {
     "name": "stdout",
     "output_type": "stream",
     "text": [
      "INFO:tensorflow:Assets written to: models/model_1_1_1/assets\n"
     ]
    },
    {
     "name": "stderr",
     "output_type": "stream",
     "text": [
      "INFO:tensorflow:Assets written to: models/model_1_1_1/assets\n"
     ]
    },
    {
     "name": "stdout",
     "output_type": "stream",
     "text": [
      "Epoch 1/50\n",
      "400/400 [==============================] - 36s 89ms/step - loss: 0.5654 - accuracy: 0.6956 - val_loss: 0.4455 - val_accuracy: 0.8169\n",
      "Epoch 2/50\n",
      "400/400 [==============================] - 33s 83ms/step - loss: 0.3332 - accuracy: 0.8672 - val_loss: 0.2606 - val_accuracy: 0.8981\n",
      "Epoch 3/50\n",
      "400/400 [==============================] - 32s 81ms/step - loss: 0.2015 - accuracy: 0.9291 - val_loss: 0.2449 - val_accuracy: 0.9100\n",
      "Epoch 4/50\n",
      "400/400 [==============================] - 32s 81ms/step - loss: 0.1414 - accuracy: 0.9539 - val_loss: 0.3080 - val_accuracy: 0.8888\n",
      "Epoch 5/50\n",
      "400/400 [==============================] - 33s 81ms/step - loss: 0.1159 - accuracy: 0.9647 - val_loss: 0.1496 - val_accuracy: 0.9513\n",
      "Epoch 6/50\n",
      "400/400 [==============================] - 33s 82ms/step - loss: 0.0942 - accuracy: 0.9689 - val_loss: 0.1451 - val_accuracy: 0.9631\n",
      "Epoch 7/50\n",
      "400/400 [==============================] - 32s 81ms/step - loss: 0.0828 - accuracy: 0.9731 - val_loss: 0.1203 - val_accuracy: 0.9650\n",
      "Epoch 8/50\n",
      "400/400 [==============================] - 33s 82ms/step - loss: 0.0677 - accuracy: 0.9786 - val_loss: 0.1209 - val_accuracy: 0.9625\n",
      "Epoch 9/50\n",
      "400/400 [==============================] - 32s 81ms/step - loss: 0.0628 - accuracy: 0.9789 - val_loss: 0.1233 - val_accuracy: 0.9669\n",
      "Epoch 10/50\n",
      "400/400 [==============================] - 32s 81ms/step - loss: 0.0570 - accuracy: 0.9830 - val_loss: 0.1662 - val_accuracy: 0.9619\n"
     ]
    },
    {
     "name": "stderr",
     "output_type": "stream",
     "text": [
      "WARNING:absl:Found untraced functions such as _jit_compiled_convolution_op, _jit_compiled_convolution_op, _jit_compiled_convolution_op while saving (showing 3 of 3). These functions will not be directly callable after loading.\n"
     ]
    },
    {
     "name": "stdout",
     "output_type": "stream",
     "text": [
      "INFO:tensorflow:Assets written to: models/model_1_1_2/assets\n"
     ]
    },
    {
     "name": "stderr",
     "output_type": "stream",
     "text": [
      "INFO:tensorflow:Assets written to: models/model_1_1_2/assets\n"
     ]
    }
   ],
   "source": [
    "# Time to do a grid search\n",
    "#num_filters: list, kernel_sizes: list, input_shape: tuple, optimizer: str\n",
    "\n",
    "num_filters = [\n",
    "    [32, 16, 8],\n",
    "    [64, 32, 16],\n",
    "]\n",
    "kernel_sizes = [\n",
    "    [3, 3, 3],\n",
    "    [2, 2, 2]\n",
    "]\n",
    "optimizers = ['sgd', 'adam', 'rmsprop']\n",
    "\n",
    "es = tf.keras.callbacks.EarlyStopping(monitor='val_loss', patience=3)\n",
    "\n",
    "for i, filters in enumerate(num_filters):\n",
    "    for j, kernels in enumerate(kernel_sizes):\n",
    "        for k, opt in enumerate(optimizers):\n",
    "            if (i == 0 and j == 0 and k == 0) or (i == 0 and j == 0 and k == 1):\n",
    "                continue\n",
    "            model = create_model(filters, kernels, X_train_np[0].shape, opt)\n",
    "\n",
    "            log_dir = f'logs/model_{i}_{j}_{k}'\n",
    "            tb = tf.keras.callbacks.TensorBoard(log_dir=log_dir, histogram_freq=1)\n",
    "\n",
    "            model.fit(X_train_np, y_train_np, epochs=50, validation_data=(X_test_np, y_test_np), batch_size=16, callbacks=[tb, es])\n",
    "            model.save(f'models/model_{i}_{j}_{k}')\n",
    "            "
   ]
  }
 ],
 "metadata": {
  "kernelspec": {
   "display_name": "Python 3.8.10 64-bit",
   "language": "python",
   "name": "python3"
  },
  "language_info": {
   "codemirror_mode": {
    "name": "ipython",
    "version": 3
   },
   "file_extension": ".py",
   "mimetype": "text/x-python",
   "name": "python",
   "nbconvert_exporter": "python",
   "pygments_lexer": "ipython3",
   "version": "3.8.10"
  },
  "orig_nbformat": 4,
  "vscode": {
   "interpreter": {
    "hash": "916dbcbb3f70747c44a77c7bcd40155683ae19c65e1c03b4aa3499c5328201f1"
   }
  }
 },
 "nbformat": 4,
 "nbformat_minor": 2
}
