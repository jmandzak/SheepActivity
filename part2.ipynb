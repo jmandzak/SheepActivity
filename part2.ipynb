{
 "cells": [
  {
   "cell_type": "markdown",
   "metadata": {},
   "source": [
    "# Part 2: Illness Detection\n",
    "### This part determines level of illness within sheep based on sitting/standing ground truth data"
   ]
  },
  {
   "cell_type": "code",
   "execution_count": 13,
   "metadata": {},
   "outputs": [],
   "source": [
    "# Imports\n",
    "import pandas as pd\n",
    "import numpy as np"
   ]
  },
  {
   "cell_type": "code",
   "execution_count": 16,
   "metadata": {},
   "outputs": [
    {
     "name": "stdout",
     "output_type": "stream",
     "text": [
      "Standing    1\n",
      "Name: 141, dtype: int64\n"
     ]
    }
   ],
   "source": [
    "# read in the data first\n",
    "# note that D is missing several days\n",
    "files = ['A.csv', 'B.csv', 'U.csv', 'V.csv', 'W.csv', 'D.csv']\n",
    "sheep = []\n",
    "\n",
    "for file in files:\n",
    "    df = pd.read_csv(file)\n",
    "    # drop unnecessary columns\n",
    "    df = df.drop(columns=df.columns[3:])\n",
    "    df = df.drop(columns=df.columns[0:2])\n",
    "\n",
    "    # rename column\n",
    "    df.columns = ['Standing']\n",
    "\n",
    "    # change accelerometer value to 1 if standing, 0 if sitting\n",
    "    df['Standing'] = np.where(df['Standing'] < -0.4, 1, 0)\n",
    "    sheep.append(df)"
   ]
  }
 ],
 "metadata": {
  "kernelspec": {
   "display_name": "Python 3.8.10 64-bit",
   "language": "python",
   "name": "python3"
  },
  "language_info": {
   "codemirror_mode": {
    "name": "ipython",
    "version": 3
   },
   "file_extension": ".py",
   "mimetype": "text/x-python",
   "name": "python",
   "nbconvert_exporter": "python",
   "pygments_lexer": "ipython3",
   "version": "3.8.10"
  },
  "orig_nbformat": 4,
  "vscode": {
   "interpreter": {
    "hash": "916dbcbb3f70747c44a77c7bcd40155683ae19c65e1c03b4aa3499c5328201f1"
   }
  }
 },
 "nbformat": 4,
 "nbformat_minor": 2
}
