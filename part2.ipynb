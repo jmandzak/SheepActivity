{
 "cells": [
  {
   "cell_type": "markdown",
   "metadata": {},
   "source": [
    "# Part 2: Illness Detection\n",
    "### This part determines level of illness within sheep based on sitting/standing ground truth data"
   ]
  },
  {
   "cell_type": "code",
   "execution_count": 13,
   "metadata": {},
   "outputs": [],
   "source": [
    "# Imports\n",
    "import pandas as pd\n",
    "import numpy as np"
   ]
  },
  {
   "cell_type": "code",
   "execution_count": 16,
   "metadata": {},
   "outputs": [
    {
     "name": "stdout",
     "output_type": "stream",
     "text": [
      "Standing    1\n",
      "Name: 141, dtype: int64\n"
     ]
    }
   ],
   "source": [
    "# read in the data first\n",
    "# note that D is missing several days\n",
    "files = ['A.csv', 'B.csv', 'U.csv', 'V.csv', 'W.csv', 'D.csv']\n",
    "sheep = []\n",
    "\n",
    "for file in files:\n",
    "    df = pd.read_csv(file)\n",
    "    # drop unnecessary columns\n",
    "    df = df.drop(columns=df.columns[3:])\n",
    "    df = df.drop(columns=df.columns[0:2])\n",
    "\n",
    "    # rename column\n",
    "    df.columns = ['Standing']\n",
    "\n",
    "    # change accelerometer value to 1 if standing, 0 if sitting\n",
    "    df['Standing'] = np.where(df['Standing'] < -0.4, 1, 0)\n",
    "    sheep.append(df)"
   ]
  },
  {
   "cell_type": "code",
   "execution_count": 18,
   "metadata": {},
   "outputs": [
    {
     "name": "stdout",
     "output_type": "stream",
     "text": [
      "(21686, 1)\n",
      "(21686, 1)\n",
      "(21686, 1)\n",
      "(21686, 1)\n",
      "(21686, 1)\n",
      "(5831, 1)\n"
     ]
    }
   ],
   "source": [
    "print(sheep[0].shape)\n",
    "print(sheep[1].shape)\n",
    "print(sheep[2].shape)\n",
    "print(sheep[3].shape)\n",
    "print(sheep[4].shape)\n",
    "print(sheep[5].shape)"
   ]
  },
  {
   "cell_type": "markdown",
   "metadata": {},
   "source": [
    "### Windowing"
   ]
  },
  {
   "cell_type": "code",
   "execution_count": 19,
   "metadata": {},
   "outputs": [],
   "source": [
    "# Function to window our samples\n",
    "def splitSamples(df: pd.DataFrame, samples_per_split: int) -> list:\n",
    "    all_samples = []\n",
    "    start_index = 0\n",
    "    end_index = samples_per_split\n",
    "    while end_index < len(df):\n",
    "        temp_df = df[start_index:end_index]\n",
    "        all_samples.append(temp_df)\n",
    "        start_index += samples_per_split // 2\n",
    "        end_index += samples_per_split // 2\n",
    "    \n",
    "    return all_samples"
   ]
  },
  {
   "cell_type": "code",
   "execution_count": 20,
   "metadata": {},
   "outputs": [],
   "source": [
    "# Call the function with each dataframe to get sample lists\n",
    "\n",
    "# The accelerometer records 2880 times a day, so let's try a window of that size\n",
    "SAMPLES_PER_SPLIT = 2880\n",
    "sheep[0] = splitSamples(sheep[0], SAMPLES_PER_SPLIT)\n",
    "sheep[1] = splitSamples(sheep[1], SAMPLES_PER_SPLIT)\n",
    "sheep[2] = splitSamples(sheep[2], SAMPLES_PER_SPLIT)\n",
    "sheep[3] = splitSamples(sheep[3], SAMPLES_PER_SPLIT)\n",
    "sheep[4] = splitSamples(sheep[4], SAMPLES_PER_SPLIT)\n",
    "sheep[5] = splitSamples(sheep[5], SAMPLES_PER_SPLIT)\n"
   ]
  },
  {
   "cell_type": "code",
   "execution_count": 33,
   "metadata": {},
   "outputs": [],
   "source": [
    "# Convert dataframes into just a list of sit/stand\n",
    "for i in range(len(sheep)):\n",
    "    for j in range(len(sheep[i])):\n",
    "        sheep[i][j] = sheep[i][j]['Standing'].tolist()"
   ]
  },
  {
   "cell_type": "code",
   "execution_count": 35,
   "metadata": {},
   "outputs": [
    {
     "name": "stdout",
     "output_type": "stream",
     "text": [
      "2880\n"
     ]
    }
   ],
   "source": []
  }
 ],
 "metadata": {
  "kernelspec": {
   "display_name": "Python 3.8.10 64-bit",
   "language": "python",
   "name": "python3"
  },
  "language_info": {
   "codemirror_mode": {
    "name": "ipython",
    "version": 3
   },
   "file_extension": ".py",
   "mimetype": "text/x-python",
   "name": "python",
   "nbconvert_exporter": "python",
   "pygments_lexer": "ipython3",
   "version": "3.8.10"
  },
  "orig_nbformat": 4,
  "vscode": {
   "interpreter": {
    "hash": "916dbcbb3f70747c44a77c7bcd40155683ae19c65e1c03b4aa3499c5328201f1"
   }
  }
 },
 "nbformat": 4,
 "nbformat_minor": 2
}
