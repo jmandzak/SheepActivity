{
 "cells": [
  {
   "cell_type": "markdown",
   "metadata": {},
   "source": [
    "# Part 2: Illness Detection\n",
    "### This part determines level of illness within sheep based on sitting/standing ground truth data"
   ]
  },
  {
   "cell_type": "code",
   "execution_count": 13,
   "metadata": {},
   "outputs": [],
   "source": [
    "# Imports\n",
    "import pandas as pd\n",
    "import numpy as np"
   ]
  },
  {
   "cell_type": "code",
   "execution_count": 16,
   "metadata": {},
   "outputs": [
    {
     "name": "stdout",
     "output_type": "stream",
     "text": [
      "Standing    1\n",
      "Name: 141, dtype: int64\n"
     ]
    }
   ],
   "source": [
    "# read in the data first\n",
    "# note that D is missing several days\n",
    "files = ['A.csv', 'B.csv', 'U.csv', 'V.csv', 'W.csv', 'D.csv']\n",
    "sheep = []\n",
    "\n",
    "for file in files:\n",
    "    df = pd.read_csv(file)\n",
    "    # drop unnecessary columns\n",
    "    df = df.drop(columns=df.columns[3:])\n",
    "    df = df.drop(columns=df.columns[0:2])\n",
    "\n",
    "    # rename column\n",
    "    df.columns = ['Standing']\n",
    "\n",
    "    # change accelerometer value to 1 if standing, 0 if sitting\n",
    "    df['Standing'] = np.where(df['Standing'] < -0.4, 1, 0)\n",
    "    sheep.append(df)"
   ]
  },
  {
   "cell_type": "code",
   "execution_count": 18,
   "metadata": {},
   "outputs": [
    {
     "name": "stdout",
     "output_type": "stream",
     "text": [
      "(21686, 1)\n",
      "(21686, 1)\n",
      "(21686, 1)\n",
      "(21686, 1)\n",
      "(21686, 1)\n",
      "(5831, 1)\n"
     ]
    }
   ],
   "source": [
    "print(sheep[0].shape)\n",
    "print(sheep[1].shape)\n",
    "print(sheep[2].shape)\n",
    "print(sheep[3].shape)\n",
    "print(sheep[4].shape)\n",
    "print(sheep[5].shape)"
   ]
  },
  {
   "cell_type": "markdown",
   "metadata": {},
   "source": [
    "### Windowing"
   ]
  },
  {
   "cell_type": "code",
   "execution_count": 19,
   "metadata": {},
   "outputs": [],
   "source": [
    "# Function to window our samples\n",
    "def splitSamples(df: pd.DataFrame, samples_per_split: int) -> list:\n",
    "    all_samples = []\n",
    "    start_index = 0\n",
    "    end_index = samples_per_split\n",
    "    while end_index < len(df):\n",
    "        temp_df = df[start_index:end_index]\n",
    "        all_samples.append(temp_df)\n",
    "        start_index += samples_per_split // 2\n",
    "        end_index += samples_per_split // 2\n",
    "    \n",
    "    return all_samples"
   ]
  },
  {
   "cell_type": "code",
   "execution_count": 20,
   "metadata": {},
   "outputs": [],
   "source": [
    "# Call the function with each dataframe to get sample lists\n",
    "\n",
    "# The accelerometer records 2880 times a day, so let's try a window of that size\n",
    "SAMPLES_PER_SPLIT = 2880\n",
    "sheep[0] = splitSamples(sheep[0], SAMPLES_PER_SPLIT)\n",
    "sheep[1] = splitSamples(sheep[1], SAMPLES_PER_SPLIT)\n",
    "sheep[2] = splitSamples(sheep[2], SAMPLES_PER_SPLIT)\n",
    "sheep[3] = splitSamples(sheep[3], SAMPLES_PER_SPLIT)\n",
    "sheep[4] = splitSamples(sheep[4], SAMPLES_PER_SPLIT)\n",
    "sheep[5] = splitSamples(sheep[5], SAMPLES_PER_SPLIT)\n"
   ]
  },
  {
   "cell_type": "code",
   "execution_count": 33,
   "metadata": {},
   "outputs": [],
   "source": [
    "# Convert dataframes into just a list of sit/stand\n",
    "for i in range(len(sheep)):\n",
    "    for j in range(len(sheep[i])):\n",
    "        sheep[i][j] = sheep[i][j]['Standing'].tolist()"
   ]
  },
  {
   "cell_type": "markdown",
   "metadata": {},
   "source": [
    "### We should do feature extraction here"
   ]
  },
  {
   "cell_type": "code",
   "execution_count": null,
   "metadata": {},
   "outputs": [],
   "source": [
    "### FEATURE EXTRACTION"
   ]
  },
  {
   "cell_type": "markdown",
   "metadata": {},
   "source": [
    "### Create X and Y to prepare model"
   ]
  },
  {
   "cell_type": "code",
   "execution_count": 38,
   "metadata": {},
   "outputs": [],
   "source": [
    "X = []\n",
    "y = []\n",
    "\n",
    "# Sheep have 5 levels of illness. We group these into 3 levels:\n",
    "#   1 = not sick\n",
    "#   2,3 = moderately sick\n",
    "#   4,5 = very sick\n",
    "# Sheep A, B, U, V, W, and D have sickness levels of 4, 3, 5, 1, 2, and 5 respectively\n",
    "SHEEP_ILLNESS_LEVEL = [2, 1, 2, 0, 1, 2]\n",
    "for s, ill in zip(sheep, SHEEP_ILLNESS_LEVEL):\n",
    "    for window in s:\n",
    "        X.append(window)\n",
    "        y.append(ill)\n"
   ]
  },
  {
   "cell_type": "markdown",
   "metadata": {},
   "source": [
    "### Model Creation"
   ]
  },
  {
   "cell_type": "code",
   "execution_count": 39,
   "metadata": {},
   "outputs": [],
   "source": [
    "# Train and evaluate the model\n",
    "from sklearn.model_selection import StratifiedKFold\n",
    "from sklearn.model_selection import cross_val_score, cross_val_predict\n",
    "from sklearn.metrics import confusion_matrix\n",
    "import matplotlib.pyplot as plt\n",
    "import numpy as np\n",
    "\n",
    "def train_and_evaluate_model(X, y, model):\n",
    "    # Do the K-fold cross validation\n",
    "    cv = StratifiedKFold(n_splits=10)\n",
    "    scores = cross_val_score(model, X, y, cv=cv, scoring='accuracy')\n",
    "\n",
    "    # This function sets an empty array of size len(y)\n",
    "    # It then does the predictions for each fold (retraining the model each time)\n",
    "    # and fills in the prediction in the correct spot in the array. By the end of it,\n",
    "    # you will have your y array and a new array (predictions) of guesses for each sample\n",
    "    # this is because Kfold uses each sample once for test data.\n",
    "    predictions = cross_val_predict(model, X, y, cv=cv)\n",
    "\n",
    "    # we can use this to create a confusion matrix\n",
    "    new_labels = ['Not Sick', 'Moderately Sick', 'Very Sick']\n",
    "    old_labels = [0, 1, 2]\n",
    "    cm = confusion_matrix(y, predictions)\n",
    "    plt.matshow(cm, cmap=plt.cm.Blues)\n",
    "    for i in range(cm.shape[0]):\n",
    "        for j in range(cm.shape[1]):\n",
    "            plt.text(x=j, y=i,s=cm[i, j], va='center', ha='center', size='xx-large')\n",
    "    plt.xticks(ticks=old_labels, labels=new_labels)\n",
    "    plt.yticks(ticks=old_labels, labels=new_labels)\n",
    "    plt.xlabel('Predicted Labels')\n",
    "    plt.ylabel('True Label')\n",
    "    \n",
    "    print(f'All accuracy scores from 10 folds:')\n",
    "    for score in scores:\n",
    "        print(f'{round(score * 100, 2)}%', end=' ')\n",
    "    print()\n",
    "    print(f'Mean Accuracy from 10 Fold Cross-Validation: {round(np.mean(scores)*100, 2)}%\\n')"
   ]
  },
  {
   "cell_type": "markdown",
   "metadata": {},
   "source": [
    "### Testing Models"
   ]
  },
  {
   "cell_type": "code",
   "execution_count": 40,
   "metadata": {},
   "outputs": [
    {
     "name": "stdout",
     "output_type": "stream",
     "text": [
      "All accuracy scores from 10 folds:\n",
      "62.5% 62.5% 62.5% 85.71% 71.43% 57.14% 71.43% 42.86% 57.14% 28.57% \n",
      "Mean Accuracy from 10 Fold Cross-Validation: 60.18%\n",
      "\n"
     ]
    },
    {
     "data": {
      "image/png": "[encoded data removed]",
      "text/plain": [
       "<Figure size 480x480 with 1 Axes>"
      ]
     },
     "metadata": {},
     "output_type": "display_data"
    }
   ],
   "source": [
    "from sklearn.ensemble import RandomForestClassifier\n",
    "\n",
    "model = RandomForestClassifier(n_estimators=100, random_state=42)\n",
    "train_and_evaluate_model(X, y, model)"
   ]
  },
  {
   "cell_type": "code",
   "execution_count": null,
   "metadata": {},
   "outputs": [],
   "source": [
    "from xgboost import XGBClassifier\n",
    "\n",
    "model = XGBClassifier()\n",
    "train_and_evaluate_model(X, y, model)"
   ]
  }
 ],
 "metadata": {
  "kernelspec": {
   "display_name": "Python 3.8.10 64-bit",
   "language": "python",
   "name": "python3"
  },
  "language_info": {
   "codemirror_mode": {
    "name": "ipython",
    "version": 3
   },
   "file_extension": ".py",
   "mimetype": "text/x-python",
   "name": "python",
   "nbconvert_exporter": "python",
   "pygments_lexer": "ipython3",
   "version": "3.8.10"
  },
  "orig_nbformat": 4,
  "vscode": {
   "interpreter": {
    "hash": "916dbcbb3f70747c44a77c7bcd40155683ae19c65e1c03b4aa3499c5328201f1"
   }
  }
 },
 "nbformat": 4,
 "nbformat_minor": 2
}
