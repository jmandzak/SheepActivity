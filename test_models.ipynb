{
 "cells": [
  {
   "cell_type": "code",
   "execution_count": 1,
   "metadata": {},
   "outputs": [],
   "source": [
    "from sklearn.model_selection import train_test_split\n",
    "import numpy as np\n",
    "\n",
    "import os\n",
    "os.environ['TF_CPP_MIN_LOG_LEVEL'] = '3'\n",
    "\n",
    "from tensorflow import keras"
   ]
  },
  {
   "cell_type": "code",
   "execution_count": 2,
   "metadata": {},
   "outputs": [],
   "source": [
    "# get data\n",
    "X = np.load('X.npy')\n",
    "y = np.load('y.npy')"
   ]
  },
  {
   "cell_type": "code",
   "execution_count": 3,
   "metadata": {},
   "outputs": [],
   "source": [
    "X_train, X_test, y_train, y_test = train_test_split(X, y, test_size=0.2, stratify=y, random_state=42)"
   ]
  },
  {
   "cell_type": "code",
   "execution_count": 4,
   "metadata": {},
   "outputs": [],
   "source": [
    "X_test_np = np.array(X_test)\n",
    "X_test_np = X_test_np.reshape(X_test_np.shape[0], X_test_np.shape[1], X_test_np.shape[2], 1)\n",
    "\n",
    "y_test_np = np.array(y_test)"
   ]
  },
  {
   "cell_type": "code",
   "execution_count": 5,
   "metadata": {},
   "outputs": [],
   "source": [
    "del X_train\n",
    "del X_test\n",
    "del y_train\n",
    "del y_test"
   ]
  },
  {
   "cell_type": "code",
   "execution_count": 7,
   "metadata": {},
   "outputs": [
    {
     "name": "stdout",
     "output_type": "stream",
     "text": [
      "50/50 [==============================] - 12s 27ms/step - loss: 0.1540 - accuracy: 0.9538\n",
      "Accuracy of model model_1_0_0: 0.9538\n",
      "50/50 [==============================] - 2s 19ms/step - loss: 0.1426 - accuracy: 0.9600\n",
      "Accuracy of model model_0_0_2: 0.96\n",
      "50/50 [==============================] - 1s 17ms/step - loss: 0.1380 - accuracy: 0.9644\n",
      "Accuracy of model model_0_1_2: 0.9644\n",
      "50/50 [==============================] - 1s 23ms/step - loss: 0.1333 - accuracy: 0.9663\n",
      "Accuracy of model model_0_0_1: 0.9663\n",
      "50/50 [==============================] - 1s 17ms/step - loss: 0.1538 - accuracy: 0.9600\n",
      "Accuracy of model model_1_1_0: 0.96\n",
      "50/50 [==============================] - 5s 97ms/step - loss: 0.1382 - accuracy: 0.9700\n",
      "Accuracy of model model_1_0_1: 0.97\n",
      "50/50 [==============================] - 4s 67ms/step - loss: 0.1881 - accuracy: 0.9556\n",
      "Accuracy of model model_1_1_1: 0.9556\n",
      "50/50 [==============================] - 2s 43ms/step - loss: 0.1740 - accuracy: 0.9500\n",
      "Accuracy of model model_0_0_0: 0.95\n",
      "50/50 [==============================] - 4s 67ms/step - loss: 0.1662 - accuracy: 0.9619\n",
      "Accuracy of model model_1_1_2: 0.9619\n",
      "50/50 [==============================] - 5s 95ms/step - loss: 0.1439 - accuracy: 0.9712\n",
      "Accuracy of model model_1_0_2: 0.9712\n",
      "50/50 [==============================] - 2s 30ms/step - loss: 0.2126 - accuracy: 0.9281\n",
      "Accuracy of model model_0_1_0: 0.9281\n",
      "50/50 [==============================] - 2s 32ms/step - loss: 0.2545 - accuracy: 0.9175\n",
      "Accuracy of model model_0_1_1: 0.9175\n"
     ]
    }
   ],
   "source": [
    "cwd = os.getcwd()\n",
    "cwd += '/models'\n",
    "\n",
    "for folder in os.listdir(cwd):\n",
    "    model = keras.models.load_model(cwd + '/' + folder)\n",
    "    score, acc = model.evaluate(X_test_np, y_test_np)\n",
    "    print(f'Accuracy of model {folder}: {round(acc, 4)}')\n",
    "\n",
    "    # for i, filters in enumerate(num_filters):\n",
    "    # for j, kernels in enumerate(kernel_sizes):\n",
    "    #     for k, opt in enumerate(optimizers):"
   ]
  }
 ],
 "metadata": {
  "kernelspec": {
   "display_name": "Python 3.8.10 64-bit",
   "language": "python",
   "name": "python3"
  },
  "language_info": {
   "codemirror_mode": {
    "name": "ipython",
    "version": 3
   },
   "file_extension": ".py",
   "mimetype": "text/x-python",
   "name": "python",
   "nbconvert_exporter": "python",
   "pygments_lexer": "ipython3",
   "version": "3.8.10"
  },
  "orig_nbformat": 4,
  "vscode": {
   "interpreter": {
    "hash": "916dbcbb3f70747c44a77c7bcd40155683ae19c65e1c03b4aa3499c5328201f1"
   }
  }
 },
 "nbformat": 4,
 "nbformat_minor": 2
}
